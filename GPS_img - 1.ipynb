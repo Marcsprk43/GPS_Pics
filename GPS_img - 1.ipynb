{
 "cells": [
  {
   "cell_type": "code",
   "execution_count": 1,
   "id": "46d2b05f",
   "metadata": {},
   "outputs": [],
   "source": [
    "# importing the module\n",
    "import cv2\n",
    "import pickle\n",
    "img_coords = []\n",
    "map_coords = []"
   ]
  },
  {
   "cell_type": "markdown",
   "id": "07838e08",
   "metadata": {},
   "source": [
    "# Locations\n",
    "\n",
    "## Oshkosh:\n",
    "### https://goo.gl/maps/7PR16hzQ9etbajZn8\n",
    "\n",
    "## Fayette Flyers:\n",
    "### https://www.google.com/maps/place/33%C2%B031'15.4%22N+84%C2%B034'53.1%22W/@33.5209331,-84.5819622,206m/data=!3m2!1e3!4b1!4m13!1m6!3m5!1s0x88f4e7c78e4091f5:0x6199b075d56b2e1c!2sFayette+Flyers+Field!8m2!3d33.5223121!4d-84.5754318!3m5!1s0x0:0xdfbef098ac98a730!7e2!8m2!3d33.5209325!4d-84.5814147\n",
    "## Random State Park:\n",
    "\n",
    "### https://goo.gl/maps/egdhVeef2QFMxugF7\n",
    "\n",
    "Check Google GPS API"
   ]
  },
  {
   "cell_type": "code",
   "execution_count": 2,
   "id": "357fd78e",
   "metadata": {},
   "outputs": [],
   "source": [
    "def click_event(event, x, y, flags, params):\n",
    "\n",
    "    # checking for left mouse clicks\n",
    "    if event == cv2.EVENT_LBUTTONDOWN:\n",
    "\n",
    "        # displaying the coordinates\n",
    "        # on the Shell\n",
    "        print(x, ' ', y)\n",
    "\n",
    "        # displaying the coordinates\n",
    "        # on the image window\n",
    "        cv2.circle(img, (x,y), 20, (255,255,255), 2)\n",
    "        img_cropped = img[y-50:y+50,x-50:x+50]\n",
    "        img_cropped = cv2.resize(img_cropped, (500,500))\n",
    "        cv2.imshow('image', img_cropped)\n",
    "        cv2.waitKey(1)\n",
    "        map_x = input(\"Map Coordinate Latitude: \")\n",
    "        if map_x == \"-1\":\n",
    "            print(\"Ending\")\n",
    "            print(img_coords)\n",
    "            print(map_coords)\n",
    "            with open('C:/Users/McIntosh Aeronautics/Documents/DroneOpencv/data.pickle', 'wb') as file:\n",
    "                pickle.dump({'shape':size,'img':img_coords, 'gps':map_coords}, file)\n",
    "            cv2.destroyAllWindows()\n",
    "        else:\n",
    "            map_y = input(\"Map Coordinate Longitude: \")\n",
    "            img_coords.append((x,y))\n",
    "            map_coords.append((float(map_x), float(map_y)))\n",
    "            cv2.imshow('image', img)\n",
    "            cv2.waitKey(1)"
   ]
  },
  {
   "cell_type": "code",
   "execution_count": 3,
   "id": "3b965061",
   "metadata": {},
   "outputs": [
    {
     "name": "stdout",
     "output_type": "stream",
     "text": [
      "(863, 616)\n",
      "160   308\n",
      "Map Coordinate Latitude: 34\n",
      "Map Coordinate Longitude: 34\n",
      "343   527\n",
      "Map Coordinate Latitude: 34\n",
      "Map Coordinate Longitude: 34\n",
      "447   450\n",
      "Map Coordinate Latitude: -1\n",
      "Ending\n",
      "[(160, 308), (343, 527)]\n",
      "[(34.0, 34.0), (34.0, 34.0)]\n"
     ]
    }
   ],
   "source": [
    "# driver function\n",
    "if __name__==\"__main__\":\n",
    "\n",
    "    # reading the image\n",
    "    img = cv2.imread('C:/Users/McIntosh Aeronautics/Documents/DroneOpencv/Competition/GPS_IMG.png', 1)\n",
    "    size = (len(img), len(img[0]))\n",
    "    print(size)\n",
    "    # displaying the image\n",
    "    cv2.imshow('image', img)\n",
    "\n",
    "    # setting mouse handler for the image\n",
    "    # and calling the click_event() function\n",
    "    cv2.setMouseCallback('image', click_event)\n",
    "\n",
    "    # wait for a key to be pressed to exit\n",
    "    cv2.waitKey(0)\n",
    "\n",
    "    # close the window\n",
    "    cv2.destroyAllWindows()"
   ]
  }
 ],
 "metadata": {
  "kernelspec": {
   "display_name": "Python 3 (ipykernel)",
   "language": "python",
   "name": "python3"
  },
  "language_info": {
   "codemirror_mode": {
    "name": "ipython",
    "version": 3
   },
   "file_extension": ".py",
   "mimetype": "text/x-python",
   "name": "python",
   "nbconvert_exporter": "python",
   "pygments_lexer": "ipython3",
   "version": "3.9.12"
  },
  "vscode": {
   "interpreter": {
    "hash": "b9ba8abbc6278f4b1b5a1c12e354592753cf14c67a40c6576711c2a0e4d4a79d"
   }
  }
 },
 "nbformat": 4,
 "nbformat_minor": 5
}
