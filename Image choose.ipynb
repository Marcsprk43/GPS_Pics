{
 "cells": [
  {
   "cell_type": "code",
   "execution_count": 1,
   "id": "46d2b05f",
   "metadata": {},
   "outputs": [],
   "source": [
    "# importing the module\n",
    "import cv2\n",
    "import pickle\n",
    "import sys\n",
    "with open('/Users/sparky/Documents/DroneOpencv/coords.pickle', 'rb') as file:\n",
    "    gps_lst = pickle.load(file)\n",
    "pickup_cnt = 0\n",
    "dropoff_cnt = 0\n",
    "pickup_dict = {}\n",
    "dropoff_dict = {}\n",
    "align_lst = []"
   ]
  },
  {
   "cell_type": "markdown",
   "id": "07838e08",
   "metadata": {},
   "source": [
    "# Locations\n",
    "\n",
    "## Oshkosh:\n",
    "### https://goo.gl/maps/7PR16hzQ9etbajZn8\n",
    "\n",
    "## Fayette Flyers:\n",
    "### https://www.google.com/maps/place/33%C2%B031'15.4%22N+84%C2%B034'53.1%22W/@33.5209331,-84.5819622,206m/data=!3m2!1e3!4b1!4m13!1m6!3m5!1s0x88f4e7c78e4091f5:0x6199b075d56b2e1c!2sFayette+Flyers+Field!8m2!3d33.5223121!4d-84.5754318!3m5!1s0x0:0xdfbef098ac98a730!7e2!8m2!3d33.5209325!4d-84.5814147"
   ]
  },
  {
   "cell_type": "code",
   "execution_count": 2,
   "id": "753f1b23",
   "metadata": {},
   "outputs": [
    {
     "ename": "SyntaxError",
     "evalue": "unexpected EOF while parsing (3568709332.py, line 20)",
     "output_type": "error",
     "traceback": [
      "\u001b[0;36m  File \u001b[0;32m\"/var/folders/wl/7gpq77yx6kx3dtkg5j98_1fc0000gn/T/ipykernel_9171/3568709332.py\"\u001b[0;36m, line \u001b[0;32m20\u001b[0m\n\u001b[0;31m    cv2.putText(img, \"{}\".format(pickup\u001b[0m\n\u001b[0m                                       ^\u001b[0m\n\u001b[0;31mSyntaxError\u001b[0m\u001b[0;31m:\u001b[0m unexpected EOF while parsing\n"
     ]
    }
   ],
   "source": [
    "def click_event(event, x, y, flags, params):\n",
    "    global pickup_cnt, dropoff_cnt, pickup_dict, dropoff_dict\n",
    "    # checking for left mouse clicks\n",
    "    pickup_cnt += 1\n",
    "\n",
    "    if event == cv2.EVENT_LBUTTONDOWN:\n",
    "        #if x > 3200 and y > 1790:\n",
    "        #    print(\"Pickups: {}\".format(pickup_dict))\n",
    "        #    print(\"Dropoffs: {}\".format(dropoff_dict))\n",
    "        #    cv2.destroyAllWindows()\n",
    "        #    with open('/Users/sparky/Documents/DroneOpencv/POI_GPS.json', 'w') as file:\n",
    "        #        json.dump({'pickups':pickup_dict, 'dropoffs':dropoff_dict}, file)\n",
    "        #    sys.exit(1)\n",
    "        pickup_cnt += 1\n",
    "        # displaying the coordinates\n",
    "        # on the image window\n",
    "        cv2.circle(img, (x,y), 10, (255,255,255), 2)\n",
    "        cv2.circle(img, (x,y), 3, (0,0,255), 3)\n",
    "        #font = cv2.FONT_HERSHEY_SIMPLEX\n",
    "        cv2.putText(img, \"{}\".format(pickup"
   ]
  },
  {
   "cell_type": "code",
   "execution_count": 3,
   "id": "357fd78e",
   "metadata": {},
   "outputs": [],
   "source": [
    "def click_event(event, x, y, flags, params):\n",
    "    global pickup_cnt, dropoff_cnt, pickup_dict, dropoff_dict\n",
    "    # checking for left mouse clicks\n",
    "    \n",
    "\n",
    "    if event == cv2.EVENT_LBUTTONDOWN:\n",
    "        #if x > 3200 and y > 1790:\n",
    "        #    print(\"Pickups: {}\".format(pickup_dict))\n",
    "        #    print(\"Dropoffs: {}\".format(dropoff_dict))\n",
    "        #    cv2.destroyAllWindows()\n",
    "        #    with open('/Users/sparky/Documents/DroneOpencv/POI_GPS.json', 'w') as file:\n",
    "        #        json.dump({'pickups':pickup_dict, 'dropoffs':dropoff_dict}, file)\n",
    "        #    sys.exit(1)\n",
    "        pickup_cnt += 1\n",
    "        # displaying the coordinates\n",
    "        # on the image window\n",
    "        cv2.circle(img, (x,y), 10, (255,255,255), 2)\n",
    "        cv2.circle(img, (x,y), 3, (0,0,255), 3)\n",
    "        font = cv2.FONT_HERSHEY_SIMPLEX\n",
    "        cv2.putText(img, \"{}\".format(pickup_cnt), (x,y), font,\n",
    "                    1, (0, 0, 255), 2)\n",
    "        #print(\"Pickup #{}: {}, {}\".format(pickup_cnt, gps_lst[y][x][0], gps_lst[y][x][1]))\n",
    "        align_lst.append((x,y))\n",
    "        print(\"{}, {}\".format(x,y))\n",
    "        #pickup_dict['pickup {}'.format(pickup_cnt)] = (gps_lst[y][x][0], gps_lst[y][x][1])\n",
    "        cv2.imshow('image', img)\n",
    "        cv2.waitKey(0)\n",
    "    elif event == cv2.EVENT_RBUTTONDOWN:\n",
    "        dropoff_cnt += 1\n",
    "        cv2.circle(img, (x,y), 10, (255,255,255), 2)\n",
    "        cv2.circle(img, (x,y), 3, (0,255,0), 3)\n",
    "        font = cv2.FONT_HERSHEY_SIMPLEX\n",
    "        cv2.putText(img, \"{:.8} {:.8}\".format(gps_lst[y][x][0],gps_lst[y][x][1]), (x,y), font,\n",
    "                    1, (0, 255, 0), 2)\n",
    "        print(\"Dropoff #{}: {}, {}\".format(dropoff_cnt, gps_lst[y][x][0], gps_lst[y][x][1]))\n",
    "        dropoff_dict['dropoff {}'.format(dropoff_cnt)] = (gps_lst[y][x][0], gps_lst[y][x][1])\n",
    "        cv2.imshow('image', img)\n",
    "        cv2.waitKey(0)"
   ]
  },
  {
   "cell_type": "code",
   "execution_count": 8,
   "id": "3b965061",
   "metadata": {},
   "outputs": [
    {
     "name": "stdout",
     "output_type": "stream",
     "text": [
      "(1352, 1656)\n",
      "134, 248\n",
      "327, 245\n",
      "279, 296\n",
      "175, 515\n",
      "614, 532\n",
      "813, 341\n",
      "1222, 313\n",
      "1276, 245\n",
      "1001, 271\n",
      "914, 258\n",
      "1253, 641\n",
      "1374, 428\n",
      "560, 782\n",
      "525, 746\n",
      "891, 647\n",
      "1296, 720\n",
      "1369, 250\n",
      "798, 881\n",
      "865, 920\n"
     ]
    }
   ],
   "source": [
    "# driver function\n",
    "if __name__==\"__main__\":\n",
    "\n",
    "    # reading the image\n",
    "    img = cv2.imread('/Users/sparky/Documents/DroneOpencv/samplePics/imgStandard.png', 1)\n",
    "    #img2 = cv2.imread('/Users/sparky/Documents/DroneOpencv/FayetteFlyers-mavic.png', 1)\n",
    "    size = (len(img), len(img[0]))\n",
    "    print(size)\n",
    "    \n",
    "    # displaying the image\n",
    "    cv2.imshow('image', img)\n",
    "\n",
    "    # setting mouse handler for the image\n",
    "    # and calling the click_event() function\n",
    "    cv2.setMouseCallback('image', click_event)\n",
    "\n",
    "    # wait for a key to be pressed to exit\n",
    "    cv2.waitKey(0)\n",
    "\n",
    "    # close the window\n",
    "    cv2.destroyAllWindows()"
   ]
  },
  {
   "cell_type": "code",
   "execution_count": null,
   "id": "35f883b6",
   "metadata": {},
   "outputs": [],
   "source": [
    "print(pickle.load(open('/Users/sparky/Documents/DroneOpencv/data.pickle', 'rb')))"
   ]
  },
  {
   "cell_type": "code",
   "execution_count": 4,
   "id": "2a169a87",
   "metadata": {},
   "outputs": [
    {
     "data": {
      "text/plain": [
       "[(2838, 1614), (536, 214)]"
      ]
     },
     "execution_count": 4,
     "metadata": {},
     "output_type": "execute_result"
    }
   ],
   "source": [
    "img_coords"
   ]
  },
  {
   "cell_type": "code",
   "execution_count": 14,
   "id": "8ecdc526",
   "metadata": {},
   "outputs": [
    {
     "data": {
      "text/plain": [
       "38"
      ]
     },
     "execution_count": 14,
     "metadata": {},
     "output_type": "execute_result"
    }
   ],
   "source": [
    "len(align_lst)\n",
    "#len(align_lst[19:])*2"
   ]
  },
  {
   "cell_type": "code",
   "execution_count": 15,
   "id": "346432b8",
   "metadata": {},
   "outputs": [],
   "source": [
    "with open('/Users/sparky/Documents/DroneOpencv/gps_coords.pickle', 'wb') as file:\n",
    "                pickle.dump(align_lst[19:], file)"
   ]
  },
  {
   "cell_type": "code",
   "execution_count": null,
   "id": "9e91afb2",
   "metadata": {},
   "outputs": [],
   "source": [
    "(204, 275),\n",
    "(209, 429),\n",
    "(668, 401),\n",
    "(760, 478),\n",
    "(900, 385),\n",
    "(994, 459),\n",
    "(1130, 365),\n",
    "(1222, 454),\n",
    "(1297, 670)"
   ]
  },
  {
   "cell_type": "code",
   "execution_count": null,
   "id": "0ddc4a3d",
   "metadata": {},
   "outputs": [],
   "source": [
    "(531, 214),\n",
    "(479, 566),\n",
    "(1530, 711),\n",
    "(1710, 950),\n",
    "(2083, 779),\n",
    "(2236, 1025),\n",
    "(2614, 849),\n",
    "(2772, 1104),\n",
    "(2841, 1616)"
   ]
  }
 ],
 "metadata": {
  "kernelspec": {
   "display_name": "Python 3 (ipykernel)",
   "language": "python",
   "name": "python3"
  },
  "language_info": {
   "codemirror_mode": {
    "name": "ipython",
    "version": 3
   },
   "file_extension": ".py",
   "mimetype": "text/x-python",
   "name": "python",
   "nbconvert_exporter": "python",
   "pygments_lexer": "ipython3",
   "version": "3.9.7"
  }
 },
 "nbformat": 4,
 "nbformat_minor": 5
}
