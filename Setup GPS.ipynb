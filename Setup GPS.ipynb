{
 "cells": [
  {
   "cell_type": "code",
   "execution_count": 28,
   "id": "7915f7bb",
   "metadata": {},
   "outputs": [
    {
     "name": "stdout",
     "output_type": "stream",
     "text": [
      "{'shape': (1352, 1656), 'img': [(251, 256), (1322, 1148)], 'gps': [(42.678069, -87.950446), (42.677324, -87.949229)]}\n"
     ]
    }
   ],
   "source": [
    "import cv2\n",
    "import pickle\n",
    "\n",
    "with open('/Users/sparky/Documents/DroneOpencv/data.pickle', 'rb') as file:\n",
    "    data = pickle.load(file)\n",
    "print(data)\n",
    "zeroes_lst = [ [0]*data['shape'][1] for _ in range(data['shape'][0]) ]"
   ]
  },
  {
   "cell_type": "code",
   "execution_count": 29,
   "id": "bca6f2fd",
   "metadata": {},
   "outputs": [
    {
     "name": "stdout",
     "output_type": "stream",
     "text": [
      "Initial: [(42.678069, -87.950446), (42.677324, -87.949229)]\n",
      "Final: [(-87.950446, 42.678069), (-87.949229, 42.677324)]\n"
     ]
    }
   ],
   "source": [
    "img_coords = data['img']\n",
    "gps_coords = []\n",
    "for coord in data['gps']:\n",
    "    gps_coords.append((coord[1],coord[0]))\n",
    "print(\"Initial: {}\".format(data['gps']))\n",
    "print(\"Final: {}\".format(gps_coords))"
   ]
  },
  {
   "cell_type": "code",
   "execution_count": 31,
   "id": "c50c7cb2",
   "metadata": {},
   "outputs": [
    {
     "name": "stdout",
     "output_type": "stream",
     "text": [
      "Img: 1071, 892, \n",
      "GPS: 0.001216999999996915, -0.0007450000000019941\n"
     ]
    }
   ],
   "source": [
    "imgx = img_coords[1][0]-img_coords[0][0]\n",
    "imgy = img_coords[1][1]-img_coords[0][1]\n",
    "gpsx = gps_coords[1][0]-gps_coords[0][0]\n",
    "gpsy = gps_coords[1][1]-gps_coords[0][1]\n",
    "\n",
    "print(\"Img: {}, {}, \\nGPS: {}, {}\".format(imgx,imgy,gpsx,gpsy))"
   ]
  },
  {
   "cell_type": "code",
   "execution_count": 32,
   "id": "43b3e0d6",
   "metadata": {},
   "outputs": [
    {
     "name": "stdout",
     "output_type": "stream",
     "text": [
      "Start: 42.677778101774045, -87.95073121661999\n"
     ]
    }
   ],
   "source": [
    "per_pix_x = gpsx/imgx\n",
    "per_pix_y = gpsy/imgy\n",
    "startx = gps_coords[0][0]-per_pix_x*img_coords[0][0]\n",
    "starty = gps_coords[0][1]-per_pix_x*img_coords[0][1]\n",
    "print(\"Start: {}, {}\".format(starty,startx))"
   ]
  },
  {
   "cell_type": "code",
   "execution_count": 33,
   "id": "b81dd988",
   "metadata": {},
   "outputs": [],
   "source": [
    "gps_lst = zeroes_lst.copy()\n",
    "for y in range(len(gps_lst)):\n",
    "    for x in range(len(gps_lst[0])):\n",
    "        gps_lst[y][x] = (starty + per_pix_y*y, startx + per_pix_x*x)"
   ]
  },
  {
   "cell_type": "code",
   "execution_count": 34,
   "id": "b02877d7",
   "metadata": {},
   "outputs": [],
   "source": [
    "with open('/Users/sparky/Documents/DroneOpencv/coords.pickle', 'wb') as file:\n",
    "    pickle.dump(gps_lst, file)"
   ]
  },
  {
   "cell_type": "code",
   "execution_count": null,
   "id": "675b6cda",
   "metadata": {},
   "outputs": [],
   "source": []
  }
 ],
 "metadata": {
  "kernelspec": {
   "display_name": "Python 3 (ipykernel)",
   "language": "python",
   "name": "python3"
  },
  "language_info": {
   "codemirror_mode": {
    "name": "ipython",
    "version": 3
   },
   "file_extension": ".py",
   "mimetype": "text/x-python",
   "name": "python",
   "nbconvert_exporter": "python",
   "pygments_lexer": "ipython3",
   "version": "3.9.7"
  }
 },
 "nbformat": 4,
 "nbformat_minor": 5
}
