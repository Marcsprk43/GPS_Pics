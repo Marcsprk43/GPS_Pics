{
 "cells": [
  {
   "cell_type": "code",
   "execution_count": 1,
   "id": "46d2b05f",
   "metadata": {},
   "outputs": [],
   "source": [
    "# importing the module\n",
    "import cv2\n",
    "import pickle\n",
    "import sys\n",
    "with open('C:/Users/McIntosh Aeronautics/Documents/DroneOpencv/gps_coords.pickle', 'rb') as file:\n",
    "    gps_lst = pickle.load(file)\n",
    "pickup_cnt = 0\n",
    "dropoff_cnt = 0\n",
    "pickup_dict = {}\n",
    "dropoff_dict = {}\n",
    "align_lst = []\n",
    "align_lst1 = []"
   ]
  },
  {
   "cell_type": "markdown",
   "id": "07838e08",
   "metadata": {},
   "source": [
    "# Locations\n",
    "\n",
    "## Oshkosh:\n",
    "### https://goo.gl/maps/7PR16hzQ9etbajZn8\n",
    "\n",
    "## Fayette Flyers:\n",
    "### https://www.google.com/maps/place/33%C2%B031'15.4%22N+84%C2%B034'53.1%22W/@33.5209331,-84.5819622,206m/data=!3m2!1e3!4b1!4m13!1m6!3m5!1s0x88f4e7c78e4091f5:0x6199b075d56b2e1c!2sFayette+Flyers+Field!8m2!3d33.5223121!4d-84.5754318!3m5!1s0x0:0xdfbef098ac98a730!7e2!8m2!3d33.5209325!4d-84.5814147"
   ]
  },
  {
   "cell_type": "code",
   "execution_count": 3,
   "id": "357fd78e",
   "metadata": {},
   "outputs": [],
   "source": [
    "def click_event(event, x, y, flags, params):\n",
    "    global pickup_cnt, dropoff_cnt, pickup_dict, dropoff_dict\n",
    "    # checking for left mouse clicks\n",
    "    \n",
    "\n",
    "    if event == cv2.EVENT_LBUTTONDOWN:\n",
    "\n",
    "        pickup_cnt += 1\n",
    "        # displaying the coordinates\n",
    "        # on the image window\n",
    "        cv2.circle(img, (x,y), 10, (255,255,255), 2)\n",
    "        cv2.circle(img, (x,y), 1, (0,0,255), 1)\n",
    "        font = cv2.FONT_HERSHEY_SIMPLEX\n",
    "        cv2.putText(img, \"{}\".format(pickup_cnt), (x,y), font,\n",
    "                    1, (0, 0, 255), 2)\n",
    "\n",
    "        align_lst.append((x,y))\n",
    "        print(\"{}, {}\".format(x,y))\n",
    "\n",
    "        cv2.imshow('image', img)\n",
    "        cv2.waitKey(0)"
   ]
  },
  {
   "cell_type": "code",
   "execution_count": null,
   "id": "3b965061",
   "metadata": {},
   "outputs": [
    {
     "name": "stdout",
     "output_type": "stream",
     "text": [
      "(1232, 1640)\n",
      "606, 263\n",
      "406, 576\n",
      "1227, 824\n"
     ]
    }
   ],
   "source": [
    "# driver function\n",
    "if __name__==\"__main__\":\n",
    "\n",
    "    # reading the image\n",
    "    img = cv2.imread(\"C:/Users/McIntosh Aeronautics/Documents/droneOpencv/Competition/image_0.jpeg\", 1)\n",
    "    #scale_percent = 70\n",
    "    #width = int(img.shape[1] * scale_percent / 100)\n",
    "    #height = int(img.shape[0] * scale_percent / 100)\n",
    "    #img = cv2.resize(img, (width, height), interpolation = cv2.INTER_AREA)\n",
    "\n",
    "    #cv2.imwrite(\"C:/Users/McIntosh Aeronautics/Documents/mppython/drone_images/image_2.jpeg\", img)\n",
    "    #img2 = cv2.imread('/Users/sparky/Documents/DroneOpencv/FayetteFlyers-mavic.png', 1)\n",
    "    size = (len(img), len(img[0]))\n",
    "    print(size)\n",
    "    \n",
    "    # displaying the image\n",
    "    cv2.imshow('image', img)\n",
    "\n",
    "    # setting mouse handler for the image\n",
    "    # and calling the click_event() function\n",
    "    \n",
    "    cv2.setMouseCallback('image', click_event)\n",
    "\n",
    "    # wait for a key to be pressed to exit\n",
    "    cv2.waitKey(0)\n",
    "\n",
    "    # close the window\n",
    "    cv2.destroyAllWindows()"
   ]
  },
  {
   "cell_type": "code",
   "execution_count": 5,
   "id": "669329ef",
   "metadata": {},
   "outputs": [
    {
     "name": "stdout",
     "output_type": "stream",
     "text": [
      "(863, 616)\n",
      "206, 465\n",
      "398, 396\n",
      "325, 489\n",
      "211, 395\n",
      "142, 549\n",
      "373, 717\n"
     ]
    }
   ],
   "source": [
    "# driver function\n",
    "if __name__==\"__main__\":\n",
    "\n",
    "    # reading the image\n",
    "    img = cv2.imread(\"C:/Users/McIntosh Aeronautics/Documents/droneOpencv/Competition/GPS_IMG.png\", 1)\n",
    "    #scale_percent = 70\n",
    "    #width = int(img.shape[1] * scale_percent / 100)\n",
    "    #height = int(img.shape[0] * scale_percent / 100)\n",
    "    #img = cv2.resize(img, (width, height), interpolation = cv2.INTER_AREA)\n",
    "\n",
    "    #cv2.imwrite(\"C:/Users/McIntosh Aeronautics/Documents/mppython/drone_images/image_2.jpeg\", img)\n",
    "    #img2 = cv2.imread('/Users/sparky/Documents/DroneOpencv/FayetteFlyers-mavic.png', 1)\n",
    "    size = (len(img), len(img[0]))\n",
    "    print(size)\n",
    "    \n",
    "    # displaying the image\n",
    "    cv2.imshow('image', img)\n",
    "\n",
    "    # setting mouse handler for the image\n",
    "    # and calling the click_event() function\n",
    "    \n",
    "    cv2.setMouseCallback('image', click_event)\n",
    "\n",
    "    # wait for a key to be pressed to exit\n",
    "    cv2.waitKey(0)\n",
    "\n",
    "    # close the window\n",
    "    cv2.destroyAllWindows()"
   ]
  },
  {
   "cell_type": "code",
   "execution_count": null,
   "id": "35f883b6",
   "metadata": {},
   "outputs": [],
   "source": [
    "print(pickle.load(open('C:/Users/McIntoshAeronautics/Documents/mppython/drone_images/data.pickle', 'rb')))"
   ]
  },
  {
   "cell_type": "code",
   "execution_count": 16,
   "id": "2a169a87",
   "metadata": {},
   "outputs": [],
   "source": [
    "solid_actual = solid"
   ]
  },
  {
   "cell_type": "code",
   "execution_count": 17,
   "id": "8ecdc526",
   "metadata": {},
   "outputs": [],
   "source": [
    "solid_gps = align_lst"
   ]
  },
  {
   "cell_type": "code",
   "execution_count": 8,
   "id": "346432b8",
   "metadata": {},
   "outputs": [],
   "source": [
    "with open('C:/Users/McIntosh Aeronautics/Documents/mppython/drone_images/actual_coords.pickle', 'wb') as file:\n",
    "                pickle.dump(align_lst, file)"
   ]
  },
  {
   "cell_type": "code",
   "execution_count": 14,
   "id": "a300b4da",
   "metadata": {},
   "outputs": [],
   "source": [
    "with open('C:/Users/McIntosh Aeronautics/Documents/mppython/drone_images/GPS_coords.pickle', 'wb') as file:\n",
    "                pickle.dump(align_lst, file)"
   ]
  },
  {
   "cell_type": "code",
   "execution_count": null,
   "id": "9e91afb2",
   "metadata": {},
   "outputs": [],
   "source": [
    "\n",
    "(204, 275),\n",
    "(209, 429),\n",
    "(668, 401),\n",
    "(760, 478),\n",
    "(900, 385),\n",
    "(994, 459),\n",
    "(1130, 365),\n",
    "(1222, 454),\n",
    "(1297, 670)"
   ]
  },
  {
   "cell_type": "code",
   "execution_count": null,
   "id": "0ddc4a3d",
   "metadata": {},
   "outputs": [],
   "source": [
    "(531, 214),\n",
    "(479, 566),\n",
    "(1530, 711),\n",
    "(1710, 950),\n",
    "(2083, 779),\n",
    "(2236, 1025),\n",
    "(2614, 849),\n",
    "(2772, 1104),\n",
    "(2841, 1616)"
   ]
  }
 ],
 "metadata": {
  "kernelspec": {
   "display_name": "Python 3 (ipykernel)",
   "language": "python",
   "name": "python3"
  },
  "language_info": {
   "codemirror_mode": {
    "name": "ipython",
    "version": 3
   },
   "file_extension": ".py",
   "mimetype": "text/x-python",
   "name": "python",
   "nbconvert_exporter": "python",
   "pygments_lexer": "ipython3",
   "version": "3.9.12"
  },
  "vscode": {
   "interpreter": {
    "hash": "b9ba8abbc6278f4b1b5a1c12e354592753cf14c67a40c6576711c2a0e4d4a79d"
   }
  }
 },
 "nbformat": 4,
 "nbformat_minor": 5
}
