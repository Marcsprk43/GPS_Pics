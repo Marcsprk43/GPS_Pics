{
 "cells": [
  {
   "cell_type": "code",
   "execution_count": 1,
   "id": "46d2b05f",
   "metadata": {},
   "outputs": [],
   "source": [
    "# importing the module\n",
    "import cv2\n",
    "import pickle\n",
    "img_coords = []\n",
    "map_coords = []"
   ]
  },
  {
   "cell_type": "markdown",
   "id": "07838e08",
   "metadata": {},
   "source": [
    "# Locations\n",
    "\n",
    "## Oshkosh:\n",
    "### https://goo.gl/maps/7PR16hzQ9etbajZn8\n",
    "\n",
    "## Fayette Flyers:\n",
    "### https://www.google.com/maps/place/33%C2%B031'15.4%22N+84%C2%B034'53.1%22W/@33.5209331,-84.5819622,206m/data=!3m2!1e3!4b1!4m13!1m6!3m5!1s0x88f4e7c78e4091f5:0x6199b075d56b2e1c!2sFayette+Flyers+Field!8m2!3d33.5223121!4d-84.5754318!3m5!1s0x0:0xdfbef098ac98a730!7e2!8m2!3d33.5209325!4d-84.5814147\n",
    "## Random State Park:\n",
    "\n",
    "### https://goo.gl/maps/egdhVeef2QFMxugF7"
   ]
  },
  {
   "cell_type": "code",
   "execution_count": 2,
   "id": "357fd78e",
   "metadata": {},
   "outputs": [],
   "source": [
    "def click_event(event, x, y, flags, params):\n",
    "\n",
    "    # checking for left mouse clicks\n",
    "    if event == cv2.EVENT_LBUTTONDOWN:\n",
    "\n",
    "        # displaying the coordinates\n",
    "        # on the Shell\n",
    "        print(x, ' ', y)\n",
    "\n",
    "        # displaying the coordinates\n",
    "        # on the image window\n",
    "        cv2.circle(img, (x,y), 20, (255,255,255), 2)\n",
    "        img_cropped = img[y-50:y+50,x-50:x+50]\n",
    "        img_cropped = cv2.resize(img_cropped, (500,500))\n",
    "        cv2.imshow('image', img_cropped)\n",
    "        cv2.waitKey(0)\n",
    "        map_x = input(\"Map Coordinate Latitude: \")\n",
    "        if map_x == \"-1\":\n",
    "            print(\"Ending\")\n",
    "            print(img_coords)\n",
    "            print(map_coords)\n",
    "            with open('C:/Users/McIntosh Aeronautics/Documents/DroneOpencv/data.pickle', 'wb') as file:\n",
    "                pickle.dump({'shape':size,'img':img_coords, 'gps':map_coords}, file)\n",
    "            cv2.destroyAllWindows()\n",
    "        else:\n",
    "            map_y = input(\"Map Coordinate Longitude: \")\n",
    "            img_coords.append((x,y))\n",
    "            map_coords.append((float(map_x), float(map_y)))\n",
    "            cv2.imshow('image', img)\n",
    "            cv2.waitKey(8000)"
   ]
  },
  {
   "cell_type": "code",
   "execution_count": 4,
   "id": "3b965061",
   "metadata": {},
   "outputs": [
    {
     "name": "stdout",
     "output_type": "stream",
     "text": [
      "(863, 616)\n",
      "567   697\n",
      "Map Coordinate Latitude: 43.968137\n",
      "Map Coordinate Longitude: -88.578969\n",
      "357   341\n",
      "Map Coordinate Latitude: -1\n",
      "Ending\n",
      "[(79, 94), (567, 697)]\n",
      "[(43.968926, -88.579856), (43.968137, -88.578969)]\n"
     ]
    }
   ],
   "source": [
    "# driver function\n",
    "if __name__==\"__main__\":\n",
    "\n",
    "    # reading the image\n",
    "    img = cv2.imread('C:/Users/McIntosh Aeronautics/Documents/DroneOpencv/Competition/GPS_IMG.png', 1)\n",
    "    size = (len(img), len(img[0]))\n",
    "    print(size)\n",
    "    # displaying the image\n",
    "    cv2.imshow('image', img)\n",
    "\n",
    "    # setting mouse handler for the image\n",
    "    # and calling the click_event() function\n",
    "    cv2.setMouseCallback('image', click_event)\n",
    "\n",
    "    # wait for a key to be pressed to exit\n",
    "    cv2.waitKey(0)\n",
    "\n",
    "    # close the window\n",
    "    cv2.destroyAllWindows()"
   ]
  },
  {
   "cell_type": "code",
   "execution_count": 7,
   "id": "35f883b6",
   "metadata": {},
   "outputs": [
    {
     "name": "stdout",
     "output_type": "stream",
     "text": [
      "{'shape': (863, 616), 'img': [(79, 94), (567, 697)], 'gps': [(43.968926, -88.579856), (43.968137, -88.578969)]}\n"
     ]
    }
   ],
   "source": [
    "print(pickle.load(open('C:/Users/McIntosh Aeronautics/Documents/DroneOpencv/data.pickle', 'rb')))"
   ]
  },
  {
   "cell_type": "code",
   "execution_count": 4,
   "id": "2a169a87",
   "metadata": {},
   "outputs": [
    {
     "data": {
      "text/plain": [
       "[(2838, 1614), (536, 214)]"
      ]
     },
     "execution_count": 4,
     "metadata": {},
     "output_type": "execute_result"
    }
   ],
   "source": [
    "img_coords"
   ]
  },
  {
   "cell_type": "code",
   "execution_count": 8,
   "id": "8ecdc526",
   "metadata": {},
   "outputs": [
    {
     "data": {
      "text/plain": [
       "(1890, 3346)"
      ]
     },
     "execution_count": 8,
     "metadata": {},
     "output_type": "execute_result"
    }
   ],
   "source": [
    "map_coords\n",
    "size"
   ]
  },
  {
   "cell_type": "code",
   "execution_count": 5,
   "id": "346432b8",
   "metadata": {},
   "outputs": [
    {
     "ename": "FileNotFoundError",
     "evalue": "[Errno 2] No such file or directory: '/Users/sparky/Documents/DroneOpencv/data.pickle'",
     "output_type": "error",
     "traceback": [
      "\u001b[1;31m---------------------------------------------------------------------------\u001b[0m",
      "\u001b[1;31mFileNotFoundError\u001b[0m                         Traceback (most recent call last)",
      "Input \u001b[1;32mIn [5]\u001b[0m, in \u001b[0;36m<cell line: 1>\u001b[1;34m()\u001b[0m\n\u001b[1;32m----> 1\u001b[0m \u001b[38;5;28;01mwith\u001b[39;00m \u001b[38;5;28;43mopen\u001b[39;49m\u001b[43m(\u001b[49m\u001b[38;5;124;43m'\u001b[39;49m\u001b[38;5;124;43m/Users/sparky/Documents/DroneOpencv/data.pickle\u001b[39;49m\u001b[38;5;124;43m'\u001b[39;49m\u001b[43m,\u001b[49m\u001b[43m \u001b[49m\u001b[38;5;124;43m'\u001b[39;49m\u001b[38;5;124;43mwb\u001b[39;49m\u001b[38;5;124;43m'\u001b[39;49m\u001b[43m)\u001b[49m \u001b[38;5;28;01mas\u001b[39;00m file:\n\u001b[0;32m      2\u001b[0m                 pickle\u001b[38;5;241m.\u001b[39mdump({\u001b[38;5;124m'\u001b[39m\u001b[38;5;124mshape\u001b[39m\u001b[38;5;124m'\u001b[39m:size,\u001b[38;5;124m'\u001b[39m\u001b[38;5;124mimg\u001b[39m\u001b[38;5;124m'\u001b[39m:img_coords, \u001b[38;5;124m'\u001b[39m\u001b[38;5;124mgps\u001b[39m\u001b[38;5;124m'\u001b[39m:map_coords}, file)\n",
      "\u001b[1;31mFileNotFoundError\u001b[0m: [Errno 2] No such file or directory: '/Users/sparky/Documents/DroneOpencv/data.pickle'"
     ]
    }
   ],
   "source": [
    "with open('/Users/sparky/Documents/DroneOpencv/data.pickle', 'wb') as file:\n",
    "                pickle.dump({'shape':size,'img':img_coords, 'gps':map_coords}, file)"
   ]
  },
  {
   "cell_type": "code",
   "execution_count": 6,
   "id": "9e91afb2",
   "metadata": {},
   "outputs": [
    {
     "ename": "FileNotFoundError",
     "evalue": "[Errno 2] No such file or directory: '/Users/sparky/Documents/DroneOpencv/data.pickle'",
     "output_type": "error",
     "traceback": [
      "\u001b[1;31m---------------------------------------------------------------------------\u001b[0m",
      "\u001b[1;31mFileNotFoundError\u001b[0m                         Traceback (most recent call last)",
      "Input \u001b[1;32mIn [6]\u001b[0m, in \u001b[0;36m<cell line: 1>\u001b[1;34m()\u001b[0m\n\u001b[1;32m----> 1\u001b[0m \u001b[38;5;28;01mwith\u001b[39;00m \u001b[38;5;28;43mopen\u001b[39;49m\u001b[43m(\u001b[49m\u001b[38;5;124;43m'\u001b[39;49m\u001b[38;5;124;43m/Users/sparky/Documents/DroneOpencv/data.pickle\u001b[39;49m\u001b[38;5;124;43m'\u001b[39;49m\u001b[43m,\u001b[49m\u001b[43m \u001b[49m\u001b[38;5;124;43m'\u001b[39;49m\u001b[38;5;124;43mrb\u001b[39;49m\u001b[38;5;124;43m'\u001b[39;49m\u001b[43m)\u001b[49m \u001b[38;5;28;01mas\u001b[39;00m file:\n\u001b[0;32m      2\u001b[0m                 \u001b[38;5;28mprint\u001b[39m(pickle\u001b[38;5;241m.\u001b[39mload(file))\n",
      "\u001b[1;31mFileNotFoundError\u001b[0m: [Errno 2] No such file or directory: '/Users/sparky/Documents/DroneOpencv/data.pickle'"
     ]
    }
   ],
   "source": [
    "with open('/Users/sparky/Documents/DroneOpencv/data.pickle', 'rb') as file:\n",
    "                print(pickle.load(file))"
   ]
  },
  {
   "cell_type": "code",
   "execution_count": null,
   "id": "d44b1f97",
   "metadata": {},
   "outputs": [],
   "source": []
  }
 ],
 "metadata": {
  "kernelspec": {
   "display_name": "Python 3 (ipykernel)",
   "language": "python",
   "name": "python3"
  },
  "language_info": {
   "codemirror_mode": {
    "name": "ipython",
    "version": 3
   },
   "file_extension": ".py",
   "mimetype": "text/x-python",
   "name": "python",
   "nbconvert_exporter": "python",
   "pygments_lexer": "ipython3",
   "version": "3.9.12"
  }
 },
 "nbformat": 4,
 "nbformat_minor": 5
}
