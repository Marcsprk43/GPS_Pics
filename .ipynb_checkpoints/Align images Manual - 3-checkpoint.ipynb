{
 "cells": [
  {
   "cell_type": "markdown",
   "id": "5cb631fd",
   "metadata": {},
   "source": [
    "# For First image setup\n",
    "\n",
    "First - Grabs the previously made data dictonary (WARNING: PERFORM interactwimage BEFORE ATTEMPTING THIS!!) and creates a gps lst of the same shape as the gps image, and puts gps coordinates in them. Saves as a pickle (coords.pickle)\n",
    "\n",
    "Then - Aligns actual image to gps image, with the same size, so that the GPS list is now transferable. Saves as jpg (aligned.jpg)"
   ]
  },
  {
   "cell_type": "code",
   "execution_count": 1,
   "id": "0fbeb993",
   "metadata": {},
   "outputs": [],
   "source": [
    "import cv2\n",
    "import numpy as np\n",
    "import pickle"
   ]
  },
  {
   "cell_type": "code",
   "execution_count": 2,
   "id": "288d556d",
   "metadata": {},
   "outputs": [
    {
     "name": "stdout",
     "output_type": "stream",
     "text": [
      "{'shape': (863, 616), 'img': [(79, 94), (567, 697)], 'gps': [(43.968926, -88.579856), (43.968137, -88.578969)]}\n"
     ]
    }
   ],
   "source": [
    "with open('C:/Users/McIntosh Aeronautics/Documents/DroneOpencv/data.pickle', 'rb') as file:\n",
    "    data = pickle.load(file)\n",
    "print(data)\n",
    "zeroes_lst = [ [0]*data['shape'][1] for _ in range(data['shape'][0]) ]"
   ]
  },
  {
   "cell_type": "code",
   "execution_count": null,
   "id": "627b35e7",
   "metadata": {},
   "outputs": [],
   "source": []
  },
  {
   "cell_type": "code",
   "execution_count": 3,
   "id": "b5c8e047",
   "metadata": {},
   "outputs": [
    {
     "name": "stdout",
     "output_type": "stream",
     "text": [
      "Initial: [(43.968926, -88.579856), (43.968137, -88.578969)]\n",
      "Final: [(-88.579856, 43.968926), (-88.578969, 43.968137)]\n",
      "Img: 488, 603, \n",
      "GPS: 0.0008870000000058553, -0.0007890000000045916\n",
      "Start: 43.96904899502488, -88.57999959221313\n",
      "(43.96904899502488, -88.57999959221313)\n"
     ]
    }
   ],
   "source": [
    "img_coords = data['img']\n",
    "gps_coords = []\n",
    "for coord in data['gps']:\n",
    "    gps_coords.append((coord[1],coord[0]))\n",
    "print(\"Initial: {}\".format(data['gps']))\n",
    "print(\"Final: {}\".format(gps_coords))\n",
    "\n",
    "imgx = img_coords[1][0]-img_coords[0][0]\n",
    "imgy = img_coords[1][1]-img_coords[0][1]\n",
    "gpsx = gps_coords[1][0]-gps_coords[0][0]\n",
    "gpsy = gps_coords[1][1]-gps_coords[0][1]\n",
    "\n",
    "print(\"Img: {}, {}, \\nGPS: {}, {}\".format(imgx,imgy,gpsx,gpsy))\n",
    "\n",
    "per_pix_x = gpsx/imgx\n",
    "per_pix_y = gpsy/imgy\n",
    "startx = gps_coords[0][0]-per_pix_x*img_coords[0][0]\n",
    "starty = gps_coords[0][1]-per_pix_y*img_coords[0][1]\n",
    "print(\"Start: {}, {}\".format(starty,startx))\n",
    "\n",
    "gps_lst = zeroes_lst.copy()\n",
    "for y in range(len(gps_lst)):\n",
    "    for x in range(len(gps_lst[0])):\n",
    "        gps_lst[y][x] = (starty + per_pix_y*y, startx + per_pix_x*x)\n",
    "print(gps_lst[0][0])\n",
    "with open('C:/Users/McIntosh Aeronautics/Documents/DroneOpencv/gps_coords.pickle', 'wb') as file:\n",
    "    pickle.dump(gps_lst, file)"
   ]
  },
  {
   "cell_type": "code",
   "execution_count": 10,
   "id": "8b0e1180",
   "metadata": {},
   "outputs": [],
   "source": [
    "def alignImages(im1, im2):\n",
    "    with open('C:/Users/McIntosh Aeronautics/Documents/mppython/drone_images/actual_coords.pickle', 'rb') as file:\n",
    "        points1 = np.array(pickle.load(file))\n",
    "        print(len(points1))\n",
    "    with open('C:/Users/McIntosh Aeronautics/Documents/mppython/drone_images/gps_coords.pickle', 'rb') as file:\n",
    "        points2 = np.array(pickle.load(file))\n",
    "        print(len(points2))\n",
    "    # Find homography\n",
    "    h, mask = cv2.findHomography(points1, points2, cv2.RANSAC)\n",
    "\n",
    "    # Use homography\n",
    "    height, width, channels = im2.shape\n",
    "    print(h)\n",
    "    print(width)\n",
    "    print(height)\n",
    "    cv2.imshow('image', im1)\n",
    "    cv2.waitKey(0)\n",
    "    im1Reg = cv2.warpPerspective(im1, h, (width, height))\n",
    "\n",
    "    return im1Reg, h"
   ]
  },
  {
   "cell_type": "code",
   "execution_count": 12,
   "id": "434e9b2c",
   "metadata": {},
   "outputs": [
    {
     "name": "stdout",
     "output_type": "stream",
     "text": [
      "Reading reference image :  C:/Users/McIntosh Aeronautics/Documents/droneOpencv/Competition/GPS_IMG.png\n",
      "Reading image to align :  C:/Users/McIntosh Aeronautics/Documents/droneOpencv/Competition/image_0.jpeg\n",
      "Aligning images ...\n",
      "6\n",
      "6\n",
      "[[ 2.52246578e-01 -1.96058983e-02  1.04134537e+02]\n",
      " [-4.52558063e-02  2.80460598e-01  2.78397452e+02]\n",
      " [-1.17918069e-04 -1.00611500e-06  1.00000000e+00]]\n",
      "616\n",
      "863\n",
      "Saving aligned image :  C:/Users/McIntosh Aeronautics/Documents/DroneOpencv/Competition/aligned.png\n",
      "Estimated homography : \n",
      " [[ 2.52246578e-01 -1.96058983e-02  1.04134537e+02]\n",
      " [-4.52558063e-02  2.80460598e-01  2.78397452e+02]\n",
      " [-1.17918069e-04 -1.00611500e-06  1.00000000e+00]]\n"
     ]
    }
   ],
   "source": [
    "if __name__ == '__main__':\n",
    "\n",
    "    # Read reference image\n",
    "    refFilename = \"C:/Users/McIntosh Aeronautics/Documents/droneOpencv/Competition/GPS_IMG.png\"\n",
    "    print(\"Reading reference image : \", refFilename)\n",
    "    imGPS = cv2.imread(refFilename, cv2.IMREAD_COLOR)\n",
    "\n",
    "    # Read image to be aligned\n",
    "    imFilename = 'C:/Users/McIntosh Aeronautics/Documents/droneOpencv/Competition/image_0.jpeg'\n",
    "    print(\"Reading image to align : \", imFilename)\n",
    "    imActual = cv2.imread(imFilename, cv2.IMREAD_COLOR)\n",
    "\n",
    "    print(\"Aligning images ...\")\n",
    "    # Registered image will be resotred in imReg.\n",
    "    # The estimated homography will be stored in h.\n",
    "    imReg, h = alignImages(imActual, imGPS)\n",
    "    cv2.imshow('aligned', imReg)\n",
    "    cv2.waitKey(0)\n",
    "    # ONLY USE IN TESTING, FOR MAKING SURE IMAGES ALIGNED CORRECTLY\n",
    "    added_image = cv2.addWeighted(imReg,0.5,imGPS,.5,0)\n",
    "    # Write aligned image to disk.\n",
    "    outFilename = \"C:/Users/McIntosh Aeronautics/Documents/DroneOpencv/Competition/aligned.png\"\n",
    "    print(\"Saving aligned image : \", outFilename)\n",
    "    cv2.imshow('aligned', added_image)\n",
    "    cv2.waitKey(0)\n",
    "    cv2.imwrite(outFilename, imReg)\n",
    "\n",
    "    # Print estimated homography\n",
    "    \n",
    "    cv2.destroyAllWindows()\n",
    "    print(\"Estimated homography : \\n\",  h)"
   ]
  },
  {
   "cell_type": "code",
   "execution_count": 4,
   "id": "c3abb97c",
   "metadata": {},
   "outputs": [],
   "source": [
    "cv2.destroyAllWindows()"
   ]
  },
  {
   "cell_type": "code",
   "execution_count": null,
   "id": "5538d5d4",
   "metadata": {},
   "outputs": [],
   "source": [
    "while 1:\n",
    "    cv2.imshow('aligned', imReg)\n",
    "    cv2.waitKey(0)\n",
    "    cv2.imshow('aligned', imGPS)\n",
    "    cv2.waitKey(0)"
   ]
  },
  {
   "cell_type": "code",
   "execution_count": null,
   "id": "56179836",
   "metadata": {},
   "outputs": [],
   "source": []
  }
 ],
 "metadata": {
  "kernelspec": {
   "display_name": "Python 3 (ipykernel)",
   "language": "python",
   "name": "python3"
  },
  "language_info": {
   "codemirror_mode": {
    "name": "ipython",
    "version": 3
   },
   "file_extension": ".py",
   "mimetype": "text/x-python",
   "name": "python",
   "nbconvert_exporter": "python",
   "pygments_lexer": "ipython3",
   "version": "3.9.12"
  }
 },
 "nbformat": 4,
 "nbformat_minor": 5
}
